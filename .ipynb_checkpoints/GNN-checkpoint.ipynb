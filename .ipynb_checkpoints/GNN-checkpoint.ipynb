{
 "cells": [
  {
   "cell_type": "code",
   "execution_count": 16,
   "id": "cb912b81-3d88-44cb-aff3-cdcbc4c77ff7",
   "metadata": {
    "scrolled": true
   },
   "outputs": [
    {
     "name": "stdout",
     "output_type": "stream",
     "text": [
      "Requirement already satisfied: opencv-python-headless in c:\\users\\acheriak\\anaconda3\\lib\\site-packages (4.11.0.86)\n",
      "Requirement already satisfied: numpy>=1.21.2 in c:\\users\\acheriak\\anaconda3\\lib\\site-packages (from opencv-python-headless) (1.26.4)\n"
     ]
    }
   ],
   "source": [
    "!pip install opencv-python-headless"
   ]
  },
  {
   "cell_type": "code",
   "execution_count": 14,
   "id": "7cf071b6-955a-42f1-a94f-a1f244321f3f",
   "metadata": {
    "scrolled": true
   },
   "outputs": [
    {
     "name": "stdout",
     "output_type": "stream",
     "text": [
      "Requirement already satisfied: opencv-python in c:\\users\\acheriak\\anaconda3\\lib\\site-packages (4.11.0.86)\n",
      "Requirement already satisfied: numpy>=1.21.2 in c:\\users\\acheriak\\anaconda3\\lib\\site-packages (from opencv-python) (1.26.4)\n"
     ]
    }
   ],
   "source": [
    "!pip install opencv-python"
   ]
  },
  {
   "cell_type": "code",
   "execution_count": 20,
   "id": "b530b8a3-8c41-41e2-859c-f2098711cce1",
   "metadata": {},
   "outputs": [
    {
     "name": "stdout",
     "output_type": "stream",
     "text": [
      "CUDA available: False\n",
      "CUDA version: None\n"
     ]
    }
   ],
   "source": [
    "print(f\"CUDA available: {torch.cuda.is_available()}\")\n",
    "print(f\"CUDA version: {torch.version.cuda}\")"
   ]
  },
  {
   "cell_type": "code",
   "execution_count": 22,
   "id": "ebeac041-2cd3-4935-a53b-af44165ac65d",
   "metadata": {},
   "outputs": [
    {
     "name": "stdout",
     "output_type": "stream",
     "text": [
      "Collecting torch\n",
      "  Using cached torch-2.6.0-cp311-cp311-win_amd64.whl.metadata (28 kB)\n",
      "Requirement already satisfied: torchvision in c:\\users\\acheriak\\anaconda3\\lib\\site-packages (0.21.0)\n",
      "Requirement already satisfied: torchaudio in c:\\users\\acheriak\\anaconda3\\lib\\site-packages (2.6.0)\n",
      "Requirement already satisfied: filelock in c:\\users\\acheriak\\anaconda3\\lib\\site-packages (from torch) (3.13.1)\n",
      "Requirement already satisfied: typing-extensions>=4.10.0 in c:\\users\\acheriak\\anaconda3\\lib\\site-packages (from torch) (4.12.2)\n",
      "Requirement already satisfied: networkx in c:\\users\\acheriak\\anaconda3\\lib\\site-packages (from torch) (3.1)\n",
      "Requirement already satisfied: jinja2 in c:\\users\\acheriak\\anaconda3\\lib\\site-packages (from torch) (3.1.3)\n",
      "Requirement already satisfied: fsspec in c:\\users\\acheriak\\anaconda3\\lib\\site-packages (from torch) (2023.10.0)\n",
      "Requirement already satisfied: sympy==1.13.1 in c:\\users\\acheriak\\anaconda3\\lib\\site-packages (from torch) (1.13.1)\n",
      "Requirement already satisfied: mpmath<1.4,>=1.1.0 in c:\\users\\acheriak\\anaconda3\\lib\\site-packages (from sympy==1.13.1->torch) (1.3.0)\n",
      "Requirement already satisfied: numpy in c:\\users\\acheriak\\anaconda3\\lib\\site-packages (from torchvision) (1.26.4)\n",
      "Requirement already satisfied: pillow!=8.3.*,>=5.3.0 in c:\\users\\acheriak\\anaconda3\\lib\\site-packages (from torchvision) (10.2.0)\n",
      "Requirement already satisfied: MarkupSafe>=2.0 in c:\\users\\acheriak\\anaconda3\\lib\\site-packages (from jinja2->torch) (2.1.3)\n",
      "Using cached torch-2.6.0-cp311-cp311-win_amd64.whl (204.2 MB)\n",
      "Installing collected packages: torch\n",
      "Successfully installed torch-2.6.0\n"
     ]
    }
   ],
   "source": [
    "!pip install torch torchvision torchaudio"
   ]
  },
  {
   "cell_type": "code",
   "execution_count": 24,
   "id": "e18581fa-005c-4102-b063-88cb1d9d825f",
   "metadata": {},
   "outputs": [
    {
     "name": "stdout",
     "output_type": "stream",
     "text": [
      "Collecting torch-geometric\n",
      "  Using cached torch_geometric-2.6.1-py3-none-any.whl.metadata (63 kB)\n",
      "Requirement already satisfied: aiohttp in c:\\users\\acheriak\\anaconda3\\lib\\site-packages (from torch-geometric) (3.9.3)\n",
      "Requirement already satisfied: fsspec in c:\\users\\acheriak\\anaconda3\\lib\\site-packages (from torch-geometric) (2023.10.0)\n",
      "Requirement already satisfied: jinja2 in c:\\users\\acheriak\\anaconda3\\lib\\site-packages (from torch-geometric) (3.1.3)\n",
      "Requirement already satisfied: numpy in c:\\users\\acheriak\\anaconda3\\lib\\site-packages (from torch-geometric) (1.26.4)\n",
      "Requirement already satisfied: psutil>=5.8.0 in c:\\users\\acheriak\\anaconda3\\lib\\site-packages (from torch-geometric) (5.9.0)\n",
      "Requirement already satisfied: pyparsing in c:\\users\\acheriak\\anaconda3\\lib\\site-packages (from torch-geometric) (3.0.9)\n",
      "Requirement already satisfied: requests in c:\\users\\acheriak\\anaconda3\\lib\\site-packages (from torch-geometric) (2.31.0)\n",
      "Requirement already satisfied: tqdm in c:\\users\\acheriak\\anaconda3\\lib\\site-packages (from torch-geometric) (4.65.0)\n",
      "Requirement already satisfied: aiosignal>=1.1.2 in c:\\users\\acheriak\\anaconda3\\lib\\site-packages (from aiohttp->torch-geometric) (1.2.0)\n",
      "Requirement already satisfied: attrs>=17.3.0 in c:\\users\\acheriak\\anaconda3\\lib\\site-packages (from aiohttp->torch-geometric) (23.1.0)\n",
      "Requirement already satisfied: frozenlist>=1.1.1 in c:\\users\\acheriak\\anaconda3\\lib\\site-packages (from aiohttp->torch-geometric) (1.4.0)\n",
      "Requirement already satisfied: multidict<7.0,>=4.5 in c:\\users\\acheriak\\anaconda3\\lib\\site-packages (from aiohttp->torch-geometric) (6.0.4)\n",
      "Requirement already satisfied: yarl<2.0,>=1.0 in c:\\users\\acheriak\\anaconda3\\lib\\site-packages (from aiohttp->torch-geometric) (1.9.3)\n",
      "Requirement already satisfied: MarkupSafe>=2.0 in c:\\users\\acheriak\\anaconda3\\lib\\site-packages (from jinja2->torch-geometric) (2.1.3)\n",
      "Requirement already satisfied: charset-normalizer<4,>=2 in c:\\users\\acheriak\\anaconda3\\lib\\site-packages (from requests->torch-geometric) (2.0.4)\n",
      "Requirement already satisfied: idna<4,>=2.5 in c:\\users\\acheriak\\anaconda3\\lib\\site-packages (from requests->torch-geometric) (3.4)\n",
      "Requirement already satisfied: urllib3<3,>=1.21.1 in c:\\users\\acheriak\\anaconda3\\lib\\site-packages (from requests->torch-geometric) (2.0.7)\n",
      "Requirement already satisfied: certifi>=2017.4.17 in c:\\users\\acheriak\\anaconda3\\lib\\site-packages (from requests->torch-geometric) (2024.6.2)\n",
      "Requirement already satisfied: colorama in c:\\users\\acheriak\\anaconda3\\lib\\site-packages (from tqdm->torch-geometric) (0.4.6)\n",
      "Using cached torch_geometric-2.6.1-py3-none-any.whl (1.1 MB)\n",
      "Installing collected packages: torch-geometric\n",
      "Successfully installed torch-geometric-2.6.1\n"
     ]
    }
   ],
   "source": [
    "!pip install torch-geometric"
   ]
  },
  {
   "cell_type": "code",
   "execution_count": 26,
   "id": "8875a49a-e63c-44d7-9ad2-e93e2f4079c1",
   "metadata": {},
   "outputs": [
    {
     "name": "stdout",
     "output_type": "stream",
     "text": [
      "PyTorch version: 2.6.0+cpu\n",
      "PyTorch Geometric version: 2.6.1\n"
     ]
    }
   ],
   "source": [
    "import torch\n",
    "import torch_geometric\n",
    "print(f\"PyTorch version: {torch.__version__}\")\n",
    "print(f\"PyTorch Geometric version: {torch_geometric.__version__}\")"
   ]
  },
  {
   "cell_type": "code",
   "execution_count": null,
   "id": "905dc83d-90a2-43f4-a7b1-2b8b85ed4b64",
   "metadata": {},
   "outputs": [],
   "source": [
    "import cv2\n",
    "import numpy as np\n",
    "import torch\n",
    "from skimage.segmentation import slic\n",
    "from scipy.spatial import Delaunay\n",
    "from sklearn.neighbors import kneighbors_graph  # ADDED IMPORT\n",
    "from torch_geometric.data import Data\n",
    "\n",
    "def get_keypoints(skeleton):\n",
    "    corners = cv2.cornerHarris(skeleton.astype(np.uint8), blockSize=2, ksize=3, k=0.04)\n",
    "    keypoints = np.argwhere(corners > 0.01 * corners.max())\n",
    "    return keypoints\n",
    "\n",
    "def get_superpixels(skeleton, n_segments=25):\n",
    "    segments = slic(skeleton, n_segments=n_segments, compactness=10)\n",
    "    return segments\n",
    "\n",
    "def construct_graph(img, method='keypoint'):\n",
    "    img = img.numpy().squeeze()\n",
    "    _, binary = cv2.threshold(img, 127, 255, cv2.THRESH_BINARY)\n",
    "    skeleton = cv2.ximgproc.thinning(binary.astype(np.uint8))\n",
    "    \n",
    "    if method == 'keypoint':\n",
    "        nodes = get_keypoints(skeleton)\n",
    "        if len(nodes) < 3:\n",
    "            # Fallback to dense nodes with k-NN (not Delaunay)\n",
    "            nodes = np.argwhere(skeleton > 0)\n",
    "            edge_index = kneighbors_graph(nodes, n_neighbors=8, mode='connectivity').nonzero()\n",
    "            edge_index = torch.tensor(edge_index, dtype=torch.long)\n",
    "        else:\n",
    "            tri = Delaunay(nodes)\n",
    "            edges = tri.simplices[:, [0,1,1,2,2,0]].reshape(-1, 2).T\n",
    "            edge_index = torch.tensor(edges, dtype=torch.long)\n",
    "        \n",
    "    elif method == 'superpixel':\n",
    "        segments = get_superpixels(skeleton)\n",
    "        nodes = []\n",
    "        for i in np.unique(segments):\n",
    "            mask = (segments == i).astype(np.uint8)\n",
    "            if mask.sum() < 5:\n",
    "                continue\n",
    "            centroid = np.array([np.mean(np.where(mask)[1]), np.mean(np.where(mask)[0])])\n",
    "            nodes.append(centroid)\n",
    "        nodes = np.array(nodes)\n",
    "        if len(nodes) == 0:\n",
    "            nodes = np.array([[14, 14]])  # Fallback to center if no superpixels\n",
    "        n_neighbors = min(4, len(nodes)-1)  # Avoid over-neighboring\n",
    "        edge_index = kneighbors_graph(nodes, n_neighbors=n_neighbors, mode='connectivity').nonzero()\n",
    "        edge_index = torch.tensor(edge_index, dtype=torch.long)\n",
    "        \n",
    "    elif method == 'dense':\n",
    "        nodes = np.argwhere(skeleton > 0)\n",
    "        edge_index = kneighbors_graph(nodes, n_neighbors=8, mode='connectivity').nonzero()\n",
    "        edge_index = torch.tensor(edge_index, dtype=torch.long)\n",
    "        \n",
    "    elif method == 'stroke':\n",
    "        nodes = np.argwhere(skeleton > 0)\n",
    "        nodes = nodes[np.argsort(nodes[:, 1])]  # Sort left-to-right\n",
    "        if len(nodes) < 2:\n",
    "            nodes = np.argwhere(skeleton > 0)  # Fallback to avoid empty edges\n",
    "        seq_edges = np.stack([np.arange(len(nodes)-1), np.arange(1, len(nodes))], axis=1)\n",
    "        spatial_edges = kneighbors_graph(nodes, n_neighbors=8, mode='connectivity').nonzero()\n",
    "        edges = np.concatenate([seq_edges, spatial_edges], axis=0)\n",
    "        edge_index = torch.tensor(edges.T, dtype=torch.long)\n",
    "        \n",
    "    else:\n",
    "        raise ValueError(\"Invalid method\")\n",
    "\n",
    "    # --- KEY FIX: Extract intensities BEFORE normalizing coordinates ---\n",
    "    original_nodes = nodes.copy()  # Use original (y, x) to index the image\n",
    "    intensities = img[original_nodes[:, 0].astype(int), original_nodes[:, 1].astype(int)].reshape(-1, 1)\n",
    "    \n",
    "    # Normalize coordinates\n",
    "    nodes = nodes / 27.0  # Now safe to normalize\n",
    "    \n",
    "    # --- KEY FIX: Convert edge indices to NumPy for indexing ---\n",
    "    row = edge_index[0].numpy()\n",
    "    col = edge_index[1].numpy()\n",
    "    \n",
    "    # Compute edge features\n",
    "    src = nodes[row]\n",
    "    dst = nodes[col]\n",
    "    rel_pos = dst - src\n",
    "    dist = np.linalg.norm(rel_pos, axis=1, keepdims=True)\n",
    "    angle = np.arctan2(rel_pos[:, 1], rel_pos[:, 0]).reshape(-1, 1)\n",
    "    edge_attr = torch.tensor(np.hstack([dist, angle]), dtype=torch.float)\n",
    "    \n",
    "    # Node features: normalized coordinates + original intensities\n",
    "    x = torch.tensor(np.hstack([nodes, intensities]), dtype=torch.float)\n",
    "    \n",
    "    return Data(x=x, edge_index=edge_index, edge_attr=edge_attr)"
   ]
  },
  {
   "cell_type": "code",
   "execution_count": null,
   "id": "478b43f8-eec8-48e0-9431-5e3db92ee9e7",
   "metadata": {},
   "outputs": [],
   "source": []
  }
 ],
 "metadata": {
  "kernelspec": {
   "display_name": "Python 3 (ipykernel)",
   "language": "python",
   "name": "python3"
  },
  "language_info": {
   "codemirror_mode": {
    "name": "ipython",
    "version": 3
   },
   "file_extension": ".py",
   "mimetype": "text/x-python",
   "name": "python",
   "nbconvert_exporter": "python",
   "pygments_lexer": "ipython3",
   "version": "3.11.7"
  }
 },
 "nbformat": 4,
 "nbformat_minor": 5
}
