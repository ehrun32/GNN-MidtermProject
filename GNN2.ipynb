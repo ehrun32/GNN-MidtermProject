{
 "cells": [
  {
   "cell_type": "code",
   "execution_count": 1,
   "id": "4aaca570-e275-47de-8b16-0a43a69f7533",
   "metadata": {},
   "outputs": [
    {
     "name": "stdout",
     "output_type": "stream",
     "text": [
      "Requirement already satisfied: torch in c:\\users\\acheriak\\anaconda3\\lib\\site-packages (2.6.0)\n",
      "Requirement already satisfied: torchvision in c:\\users\\acheriak\\anaconda3\\lib\\site-packages (0.21.0)\n",
      "Requirement already satisfied: torch-geometric in c:\\users\\acheriak\\anaconda3\\lib\\site-packages (2.6.1)\n",
      "Requirement already satisfied: scikit-image in c:\\users\\acheriak\\anaconda3\\lib\\site-packages (0.22.0)\n",
      "Requirement already satisfied: matplotlib in c:\\users\\acheriak\\anaconda3\\lib\\site-packages (3.8.0)\n",
      "Requirement already satisfied: seaborn in c:\\users\\acheriak\\anaconda3\\lib\\site-packages (0.12.2)\n",
      "Requirement already satisfied: filelock in c:\\users\\acheriak\\anaconda3\\lib\\site-packages (from torch) (3.13.1)\n",
      "Requirement already satisfied: typing-extensions>=4.10.0 in c:\\users\\acheriak\\anaconda3\\lib\\site-packages (from torch) (4.12.2)\n",
      "Requirement already satisfied: networkx in c:\\users\\acheriak\\anaconda3\\lib\\site-packages (from torch) (3.1)\n",
      "Requirement already satisfied: jinja2 in c:\\users\\acheriak\\anaconda3\\lib\\site-packages (from torch) (3.1.3)\n",
      "Requirement already satisfied: fsspec in c:\\users\\acheriak\\anaconda3\\lib\\site-packages (from torch) (2023.10.0)\n",
      "Requirement already satisfied: sympy==1.13.1 in c:\\users\\acheriak\\anaconda3\\lib\\site-packages (from torch) (1.13.1)\n",
      "Requirement already satisfied: mpmath<1.4,>=1.1.0 in c:\\users\\acheriak\\anaconda3\\lib\\site-packages (from sympy==1.13.1->torch) (1.3.0)\n",
      "Requirement already satisfied: numpy in c:\\users\\acheriak\\anaconda3\\lib\\site-packages (from torchvision) (1.26.4)\n",
      "Requirement already satisfied: pillow!=8.3.*,>=5.3.0 in c:\\users\\acheriak\\anaconda3\\lib\\site-packages (from torchvision) (10.2.0)\n",
      "Requirement already satisfied: aiohttp in c:\\users\\acheriak\\anaconda3\\lib\\site-packages (from torch-geometric) (3.9.3)\n",
      "Requirement already satisfied: psutil>=5.8.0 in c:\\users\\acheriak\\anaconda3\\lib\\site-packages (from torch-geometric) (5.9.0)\n",
      "Requirement already satisfied: pyparsing in c:\\users\\acheriak\\anaconda3\\lib\\site-packages (from torch-geometric) (3.0.9)\n",
      "Requirement already satisfied: requests in c:\\users\\acheriak\\anaconda3\\lib\\site-packages (from torch-geometric) (2.31.0)\n",
      "Requirement already satisfied: tqdm in c:\\users\\acheriak\\anaconda3\\lib\\site-packages (from torch-geometric) (4.65.0)\n",
      "Requirement already satisfied: scipy>=1.8 in c:\\users\\acheriak\\anaconda3\\lib\\site-packages (from scikit-image) (1.11.4)\n",
      "Requirement already satisfied: imageio>=2.27 in c:\\users\\acheriak\\anaconda3\\lib\\site-packages (from scikit-image) (2.33.1)\n",
      "Requirement already satisfied: tifffile>=2022.8.12 in c:\\users\\acheriak\\anaconda3\\lib\\site-packages (from scikit-image) (2023.4.12)\n",
      "Requirement already satisfied: packaging>=21 in c:\\users\\acheriak\\anaconda3\\lib\\site-packages (from scikit-image) (23.1)\n",
      "Requirement already satisfied: lazy_loader>=0.3 in c:\\users\\acheriak\\anaconda3\\lib\\site-packages (from scikit-image) (0.3)\n",
      "Requirement already satisfied: contourpy>=1.0.1 in c:\\users\\acheriak\\anaconda3\\lib\\site-packages (from matplotlib) (1.2.0)\n",
      "Requirement already satisfied: cycler>=0.10 in c:\\users\\acheriak\\anaconda3\\lib\\site-packages (from matplotlib) (0.11.0)\n",
      "Requirement already satisfied: fonttools>=4.22.0 in c:\\users\\acheriak\\anaconda3\\lib\\site-packages (from matplotlib) (4.25.0)\n",
      "Requirement already satisfied: kiwisolver>=1.0.1 in c:\\users\\acheriak\\anaconda3\\lib\\site-packages (from matplotlib) (1.4.4)\n",
      "Requirement already satisfied: python-dateutil>=2.7 in c:\\users\\acheriak\\anaconda3\\lib\\site-packages (from matplotlib) (2.8.2)\n",
      "Requirement already satisfied: pandas>=0.25 in c:\\users\\acheriak\\anaconda3\\lib\\site-packages (from seaborn) (2.1.4)\n",
      "Requirement already satisfied: pytz>=2020.1 in c:\\users\\acheriak\\anaconda3\\lib\\site-packages (from pandas>=0.25->seaborn) (2023.3.post1)\n",
      "Requirement already satisfied: tzdata>=2022.1 in c:\\users\\acheriak\\anaconda3\\lib\\site-packages (from pandas>=0.25->seaborn) (2023.3)\n",
      "Requirement already satisfied: six>=1.5 in c:\\users\\acheriak\\anaconda3\\lib\\site-packages (from python-dateutil>=2.7->matplotlib) (1.16.0)\n",
      "Requirement already satisfied: aiosignal>=1.1.2 in c:\\users\\acheriak\\anaconda3\\lib\\site-packages (from aiohttp->torch-geometric) (1.2.0)\n",
      "Requirement already satisfied: attrs>=17.3.0 in c:\\users\\acheriak\\anaconda3\\lib\\site-packages (from aiohttp->torch-geometric) (23.1.0)\n",
      "Requirement already satisfied: frozenlist>=1.1.1 in c:\\users\\acheriak\\anaconda3\\lib\\site-packages (from aiohttp->torch-geometric) (1.4.0)\n",
      "Requirement already satisfied: multidict<7.0,>=4.5 in c:\\users\\acheriak\\anaconda3\\lib\\site-packages (from aiohttp->torch-geometric) (6.0.4)\n",
      "Requirement already satisfied: yarl<2.0,>=1.0 in c:\\users\\acheriak\\anaconda3\\lib\\site-packages (from aiohttp->torch-geometric) (1.9.3)\n",
      "Requirement already satisfied: MarkupSafe>=2.0 in c:\\users\\acheriak\\anaconda3\\lib\\site-packages (from jinja2->torch) (2.1.3)\n",
      "Requirement already satisfied: charset-normalizer<4,>=2 in c:\\users\\acheriak\\anaconda3\\lib\\site-packages (from requests->torch-geometric) (2.0.4)\n",
      "Requirement already satisfied: idna<4,>=2.5 in c:\\users\\acheriak\\anaconda3\\lib\\site-packages (from requests->torch-geometric) (3.4)\n",
      "Requirement already satisfied: urllib3<3,>=1.21.1 in c:\\users\\acheriak\\anaconda3\\lib\\site-packages (from requests->torch-geometric) (2.0.7)\n",
      "Requirement already satisfied: certifi>=2017.4.17 in c:\\users\\acheriak\\anaconda3\\lib\\site-packages (from requests->torch-geometric) (2024.6.2)\n",
      "Requirement already satisfied: colorama in c:\\users\\acheriak\\anaconda3\\lib\\site-packages (from tqdm->torch-geometric) (0.4.6)\n"
     ]
    }
   ],
   "source": [
    "!pip install torch torchvision torch-geometric scikit-image matplotlib seaborn"
   ]
  },
  {
   "cell_type": "code",
   "execution_count": 25,
   "id": "39b735ae-d7c2-40ef-af21-8776b3f622b8",
   "metadata": {},
   "outputs": [
    {
     "name": "stdout",
     "output_type": "stream",
     "text": [
      "Requirement already satisfied: opencv-python-headless in c:\\users\\acheriak\\anaconda3\\lib\\site-packages (4.11.0.86)\n",
      "Requirement already satisfied: numpy>=1.21.2 in c:\\users\\acheriak\\anaconda3\\lib\\site-packages (from opencv-python-headless) (1.26.4)\n"
     ]
    }
   ],
   "source": [
    "!pip install opencv-python-headless"
   ]
  },
  {
   "cell_type": "code",
   "execution_count": 27,
   "id": "0bac892e-18a2-46df-a8d4-ef280e26dbc6",
   "metadata": {},
   "outputs": [
    {
     "name": "stdout",
     "output_type": "stream",
     "text": [
      "Requirement already satisfied: opencv-python in c:\\users\\acheriak\\anaconda3\\lib\\site-packages (4.11.0.86)\n",
      "Requirement already satisfied: numpy>=1.21.2 in c:\\users\\acheriak\\anaconda3\\lib\\site-packages (from opencv-python) (1.26.4)\n"
     ]
    }
   ],
   "source": [
    "!pip install opencv-python"
   ]
  },
  {
   "cell_type": "code",
   "execution_count": 32,
   "id": "306773f8-2968-4e6d-b4f2-95847df713a4",
   "metadata": {},
   "outputs": [
    {
     "name": "stdout",
     "output_type": "stream",
     "text": [
      "Collecting opencv-contrib-python\n",
      "  Using cached opencv_contrib_python-4.11.0.86-cp37-abi3-win_amd64.whl.metadata (20 kB)\n",
      "Requirement already satisfied: numpy>=1.21.2 in c:\\users\\acheriak\\anaconda3\\lib\\site-packages (from opencv-contrib-python) (1.26.4)\n",
      "Using cached opencv_contrib_python-4.11.0.86-cp37-abi3-win_amd64.whl (46.2 MB)\n",
      "Installing collected packages: opencv-contrib-python\n",
      "Successfully installed opencv-contrib-python-4.11.0.86\n"
     ]
    }
   ],
   "source": [
    "!pip install opencv-contrib-python --user"
   ]
  },
  {
   "cell_type": "code",
   "execution_count": 34,
   "id": "8e7e3bca-8669-4aa0-965f-d6d2af4790d4",
   "metadata": {},
   "outputs": [
    {
     "ename": "AttributeError",
     "evalue": "module 'cv2' has no attribute 'ximgproc'",
     "output_type": "error",
     "traceback": [
      "\u001b[1;31m---------------------------------------------------------------------------\u001b[0m",
      "\u001b[1;31mAttributeError\u001b[0m                            Traceback (most recent call last)",
      "Cell \u001b[1;32mIn[34], line 2\u001b[0m\n\u001b[0;32m      1\u001b[0m \u001b[38;5;28;01mimport\u001b[39;00m \u001b[38;5;21;01mcv2\u001b[39;00m\n\u001b[1;32m----> 2\u001b[0m \u001b[38;5;28mprint\u001b[39m(cv2\u001b[38;5;241m.\u001b[39mximgproc)\n",
      "\u001b[1;31mAttributeError\u001b[0m: module 'cv2' has no attribute 'ximgproc'"
     ]
    }
   ],
   "source": []
  },
  {
   "cell_type": "code",
   "execution_count": 15,
   "id": "0d6a3b3b-9e49-4ce2-ac17-22ed1a5a24e7",
   "metadata": {},
   "outputs": [],
   "source": [
    "import cv2\n",
    "import numpy as np\n",
    "import torch\n",
    "from skimage.segmentation import slic\n",
    "from scipy.spatial import Delaunay\n",
    "from sklearn.neighbors import kneighbors_graph\n",
    "from torch_geometric.data import Data\n",
    "from torchvision.datasets import MNIST\n",
    "from torchvision.transforms import ToTensor\n",
    "\n",
    "def get_keypoints(skeleton):\n",
    "    corners = cv2.cornerHarris(skeleton.astype(np.uint8), blockSize=2, ksize=3, k=0.04)\n",
    "    keypoints = np.argwhere(corners > 0.01 * corners.max())\n",
    "    return keypoints\n",
    "\n",
    "def get_superpixels(skeleton, n_segments=25):\n",
    "    segments = slic(skeleton, n_segments=n_segments, compactness=10)\n",
    "    return segments\n",
    "\n",
    "def construct_graph(img, method='keypoint'):\n",
    "    # Convert tensor to numpy and scale to [0, 255]\n",
    "    img = img.squeeze().numpy()  # Now a (28, 28) numpy array\n",
    "    img = (img * 255).astype(np.uint8)  # Scale to 0-255\n",
    "\n",
    "    _, binary = cv2.threshold(img, 127, 255, cv2.THRESH_BINARY)\n",
    "    skeleton = cv2.ximgproc.thinning(binary.astype(np.uint8))\n",
    "\n",
    "    if method == 'keypoint':\n",
    "        nodes = get_keypoints(skeleton)\n",
    "        if len(nodes) < 3:\n",
    "            nodes = np.argwhere(skeleton > 0)\n",
    "        tri = Delaunay(nodes)\n",
    "        edges = tri.simplices[:, [0, 1, 1, 2, 2, 0]].reshape(-1, 2).T\n",
    "        edge_index = torch.tensor(edges, dtype=torch.long)\n",
    "\n",
    "    elif method == 'superpixel':\n",
    "        segments = get_superpixels(skeleton)\n",
    "        nodes = []\n",
    "        for i in np.unique(segments):\n",
    "            mask = (segments == i).astype(np.uint8)\n",
    "            if mask.sum() < 5:\n",
    "                continue\n",
    "            centroid = np.array([np.mean(np.where(mask)[1]), np.mean(np.where(mask)[0])])\n",
    "            nodes.append(centroid)\n",
    "        nodes = np.array(nodes)\n",
    "        if len(nodes) == 0:\n",
    "            nodes = np.array([[14, 14]])  # Fallback to center if no superpixels\n",
    "        n_neighbors = min(4, len(nodes) - 1)  # Avoid over-neighboring\n",
    "        edge_index = kneighbors_graph(nodes, n_neighbors=n_neighbors, mode='connectivity').nonzero()\n",
    "        edge_index = torch.tensor(edge_index, dtype=torch.long)\n",
    "\n",
    "    elif method == 'dense':\n",
    "        nodes = np.argwhere(skeleton > 0)\n",
    "        edge_index = kneighbors_graph(nodes, n_neighbors=8, mode='connectivity').nonzero()\n",
    "        edge_index = torch.tensor(edge_index, dtype=torch.long)\n",
    "\n",
    "    elif method == 'stroke':\n",
    "        nodes = np.argwhere(skeleton > 0)\n",
    "        nodes = nodes[np.argsort(nodes[:, 1])]  # Sort left-to-right\n",
    "        if len(nodes) < 2:\n",
    "            nodes = np.argwhere(skeleton > 0)  # Fallback to avoid empty edges\n",
    "        seq_edges = np.stack([np.arange(len(nodes) - 1), np.arange(1, len(nodes))], axis=1)\n",
    "        spatial_edges = kneighbors_graph(nodes, n_neighbors=8, mode='connectivity').nonzero()\n",
    "        edges = np.concatenate([seq_edges, spatial_edges], axis=0)\n",
    "        edge_index = torch.tensor(edges.T, dtype=torch.long)\n",
    "\n",
    "    else:\n",
    "        raise ValueError(\"Invalid method\")\n",
    "\n",
    "    original_nodes = nodes.copy()  # Use original (y, x) to index the image\n",
    "    intensities = img[original_nodes[:, 0].astype(int), original_nodes[:, 1].astype(int)].reshape(-1, 1)\n",
    "\n",
    "    # Normalize coordinates\n",
    "    nodes = nodes / 27.0\n",
    "\n",
    "    row = edge_index[0].numpy()\n",
    "    col = edge_index[1].numpy()\n",
    "\n",
    "    # Compute edge features\n",
    "    src = nodes[row]\n",
    "    dst = nodes[col]\n",
    "    rel_pos = dst - src\n",
    "    dist = np.linalg.norm(rel_pos, axis=1, keepdims=True)\n",
    "    angle = np.arctan2(rel_pos[:, 1], rel_pos[:, 0]).reshape(-1, 1)\n",
    "    edge_attr = torch.tensor(np.hstack([dist, angle]), dtype=torch.float)\n",
    "\n",
    "    # Node features: normalized coordinates + original intensities\n",
    "    x = torch.tensor(np.hstack([nodes, intensities]), dtype=torch.float)\n",
    "\n",
    "    return Data(x=x, edge_index=edge_index, edge_attr=edge_attr)\n"
   ]
  },
  {
   "cell_type": "code",
   "execution_count": 17,
   "id": "cb890a1f-240b-449f-94e1-6203df56aec5",
   "metadata": {},
   "outputs": [
    {
     "ename": "AttributeError",
     "evalue": "module 'cv2' has no attribute 'ximgproc'",
     "output_type": "error",
     "traceback": [
      "\u001b[1;31m---------------------------------------------------------------------------\u001b[0m",
      "\u001b[1;31mAttributeError\u001b[0m                            Traceback (most recent call last)",
      "Cell \u001b[1;32mIn[17], line 13\u001b[0m\n\u001b[0;32m     10\u001b[0m     \u001b[38;5;28;01mif\u001b[39;00m label \u001b[38;5;241m==\u001b[39m desired_label:\n\u001b[0;32m     11\u001b[0m         \u001b[38;5;28;01mbreak\u001b[39;00m\n\u001b[1;32m---> 13\u001b[0m graph \u001b[38;5;241m=\u001b[39m construct_graph(img, method\u001b[38;5;241m=\u001b[39m\u001b[38;5;124m'\u001b[39m\u001b[38;5;124mkeypoint\u001b[39m\u001b[38;5;124m'\u001b[39m)\n\u001b[0;32m     15\u001b[0m \u001b[38;5;66;03m# Plot\u001b[39;00m\n\u001b[0;32m     16\u001b[0m plt\u001b[38;5;241m.\u001b[39mfigure(figsize\u001b[38;5;241m=\u001b[39m(\u001b[38;5;241m8\u001b[39m, \u001b[38;5;241m4\u001b[39m))\n",
      "Cell \u001b[1;32mIn[15], line 26\u001b[0m, in \u001b[0;36mconstruct_graph\u001b[1;34m(img, method)\u001b[0m\n\u001b[0;32m     23\u001b[0m img \u001b[38;5;241m=\u001b[39m (img \u001b[38;5;241m*\u001b[39m \u001b[38;5;241m255\u001b[39m)\u001b[38;5;241m.\u001b[39mastype(np\u001b[38;5;241m.\u001b[39muint8)  \u001b[38;5;66;03m# Scale to 0-255\u001b[39;00m\n\u001b[0;32m     25\u001b[0m _, binary \u001b[38;5;241m=\u001b[39m cv2\u001b[38;5;241m.\u001b[39mthreshold(img, \u001b[38;5;241m127\u001b[39m, \u001b[38;5;241m255\u001b[39m, cv2\u001b[38;5;241m.\u001b[39mTHRESH_BINARY)\n\u001b[1;32m---> 26\u001b[0m skeleton \u001b[38;5;241m=\u001b[39m cv2\u001b[38;5;241m.\u001b[39mximgproc\u001b[38;5;241m.\u001b[39mthinning(binary\u001b[38;5;241m.\u001b[39mastype(np\u001b[38;5;241m.\u001b[39muint8))\n\u001b[0;32m     28\u001b[0m \u001b[38;5;28;01mif\u001b[39;00m method \u001b[38;5;241m==\u001b[39m \u001b[38;5;124m'\u001b[39m\u001b[38;5;124mkeypoint\u001b[39m\u001b[38;5;124m'\u001b[39m:\n\u001b[0;32m     29\u001b[0m     nodes \u001b[38;5;241m=\u001b[39m get_keypoints(skeleton)\n",
      "\u001b[1;31mAttributeError\u001b[0m: module 'cv2' has no attribute 'ximgproc'"
     ]
    }
   ],
   "source": [
    "import matplotlib.pyplot as plt\n",
    "from torchvision.datasets import MNIST\n",
    "from torchvision.transforms import ToTensor\n",
    "\n",
    "train_dataset = MNIST(root='./data', train=True, download=True, transform=ToTensor())\n",
    "\n",
    "desired_label = 8\n",
    "for idx in range(len(train_dataset)):\n",
    "    img, label = train_dataset[idx]\n",
    "    if label == desired_label:\n",
    "        break\n",
    "\n",
    "graph = construct_graph(img, method='keypoint')\n",
    "\n",
    "# Plot\n",
    "plt.figure(figsize=(8, 4))\n",
    "plt.subplot(1, 2, 1)\n",
    "plt.imshow(img.squeeze().numpy(), cmap='gray')\n",
    "plt.title(f'Label: {label}')\n",
    "\n",
    "plt.subplot(1, 2, 2)\n",
    "nodes = graph.x[:, :2].numpy() * 27\n",
    "edges = graph.edge_index.numpy()\n",
    "\n",
    "# Draw edges\n",
    "for i in range(edges.shape[1]):\n",
    "    src, dst = edges[:, i]\n",
    "    plt.plot([nodes[src, 1], nodes[dst, 1]], [nodes[src, 0], nodes[dst, 0]],\n",
    "             'b-', alpha=0.3, linewidth=0.5)\n",
    "\n",
    "# Draw nodes\n",
    "plt.scatter(nodes[:, 1], nodes[:, 0], c=graph.x[:, 2].numpy(), cmap='viridis', s=10)\n",
    "plt.colorbar(label='Intensity')\n",
    "plt.gca().invert_yaxis()\n",
    "plt.title(f'Graph: {len(nodes)} nodes, {edges.shape[1]} edges')\n",
    "plt.show()"
   ]
  },
  {
   "cell_type": "code",
   "execution_count": null,
   "id": "6b5cd581-401a-4b73-a755-dcb188cdac89",
   "metadata": {},
   "outputs": [],
   "source": []
  }
 ],
 "metadata": {
  "kernelspec": {
   "display_name": "Python 3 (ipykernel)",
   "language": "python",
   "name": "python3"
  },
  "language_info": {
   "codemirror_mode": {
    "name": "ipython",
    "version": 3
   },
   "file_extension": ".py",
   "mimetype": "text/x-python",
   "name": "python",
   "nbconvert_exporter": "python",
   "pygments_lexer": "ipython3",
   "version": "3.11.7"
  }
 },
 "nbformat": 4,
 "nbformat_minor": 5
}
